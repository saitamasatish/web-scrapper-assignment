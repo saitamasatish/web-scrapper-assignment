{
 "cells": [
  {
   "cell_type": "code",
   "execution_count": 1,
   "id": "c23707d1",
   "metadata": {},
   "outputs": [
    {
     "name": "stdout",
     "output_type": "stream",
     "text": [
      "Requirement already satisfied: selenium in c:\\users\\lenovo\\anaconda3\\lib\\site-packages (4.8.2)\n",
      "Requirement already satisfied: urllib3[socks]~=1.26 in c:\\users\\lenovo\\anaconda3\\lib\\site-packages (from selenium) (1.26.11)\n",
      "Requirement already satisfied: certifi>=2021.10.8 in c:\\users\\lenovo\\anaconda3\\lib\\site-packages (from selenium) (2022.9.14)\n",
      "Requirement already satisfied: trio-websocket~=0.9 in c:\\users\\lenovo\\anaconda3\\lib\\site-packages (from selenium) (0.9.2)\n",
      "Requirement already satisfied: trio~=0.17 in c:\\users\\lenovo\\anaconda3\\lib\\site-packages (from selenium) (0.22.0)\n",
      "Requirement already satisfied: sortedcontainers in c:\\users\\lenovo\\anaconda3\\lib\\site-packages (from trio~=0.17->selenium) (2.4.0)\n",
      "Requirement already satisfied: sniffio in c:\\users\\lenovo\\anaconda3\\lib\\site-packages (from trio~=0.17->selenium) (1.2.0)\n",
      "Requirement already satisfied: cffi>=1.14 in c:\\users\\lenovo\\anaconda3\\lib\\site-packages (from trio~=0.17->selenium) (1.15.1)\n",
      "Requirement already satisfied: exceptiongroup>=1.0.0rc9 in c:\\users\\lenovo\\anaconda3\\lib\\site-packages (from trio~=0.17->selenium) (1.1.0)\n",
      "Requirement already satisfied: attrs>=19.2.0 in c:\\users\\lenovo\\anaconda3\\lib\\site-packages (from trio~=0.17->selenium) (21.4.0)\n",
      "Requirement already satisfied: outcome in c:\\users\\lenovo\\anaconda3\\lib\\site-packages (from trio~=0.17->selenium) (1.2.0)\n",
      "Requirement already satisfied: async-generator>=1.9 in c:\\users\\lenovo\\anaconda3\\lib\\site-packages (from trio~=0.17->selenium) (1.10)\n",
      "Requirement already satisfied: idna in c:\\users\\lenovo\\anaconda3\\lib\\site-packages (from trio~=0.17->selenium) (3.3)\n",
      "Requirement already satisfied: wsproto>=0.14 in c:\\users\\lenovo\\anaconda3\\lib\\site-packages (from trio-websocket~=0.9->selenium) (1.2.0)\n",
      "Requirement already satisfied: PySocks!=1.5.7,<2.0,>=1.5.6 in c:\\users\\lenovo\\anaconda3\\lib\\site-packages (from urllib3[socks]~=1.26->selenium) (1.7.1)\n",
      "Requirement already satisfied: pycparser in c:\\users\\lenovo\\anaconda3\\lib\\site-packages (from cffi>=1.14->trio~=0.17->selenium) (2.21)\n",
      "Requirement already satisfied: h11<1,>=0.9.0 in c:\\users\\lenovo\\anaconda3\\lib\\site-packages (from wsproto>=0.14->trio-websocket~=0.9->selenium) (0.14.0)\n",
      "Note: you may need to restart the kernel to use updated packages.\n"
     ]
    }
   ],
   "source": [
    "pip install selenium\n"
   ]
  },
  {
   "cell_type": "code",
   "execution_count": 2,
   "id": "392e85c9",
   "metadata": {},
   "outputs": [],
   "source": [
    "from selenium import webdriver\n",
    "from selenium.webdriver.common.by import By\n"
   ]
  },
  {
   "cell_type": "code",
   "execution_count": 79,
   "id": "3ec45d6e",
   "metadata": {},
   "outputs": [
    {
     "name": "stderr",
     "output_type": "stream",
     "text": [
      "C:\\Users\\Lenovo\\AppData\\Local\\Temp\\ipykernel_20244\\1308567921.py:1: DeprecationWarning: executable_path has been deprecated, please pass in a Service object\n",
      "  driver=webdriver.Chrome(r\"C:\\Users\\Lenovo\\Downloads\\chromedriver_win32 (1)\\chromedriver.exe\")\n"
     ]
    }
   ],
   "source": [
    "driver=webdriver.Chrome(r\"C:\\Users\\Lenovo\\Downloads\\chromedriver_win32 (1)\\chromedriver.exe\")"
   ]
  },
  {
   "cell_type": "code",
   "execution_count": 80,
   "id": "87f86c61",
   "metadata": {},
   "outputs": [
    {
     "data": {
      "text/plain": [
       "'Physics Wallah Foundation - YouTube'"
      ]
     },
     "execution_count": 80,
     "metadata": {},
     "output_type": "execute_result"
    }
   ],
   "source": [
    "url=\"https://www.youtube.com/@PW-Foundation/videos\"\n",
    "driver.get(url)\n",
    "driver.title"
   ]
  },
  {
   "cell_type": "markdown",
   "id": "c590d984",
   "metadata": {},
   "source": [
    "**Q1. Write a python program to extract the video URL of the first five videos**"
   ]
  },
  {
   "cell_type": "code",
   "execution_count": 81,
   "id": "c93b9ffd",
   "metadata": {},
   "outputs": [],
   "source": [
    "videos=driver.find_elements(\"id\",\"video-title-link\")"
   ]
  },
  {
   "cell_type": "code",
   "execution_count": 82,
   "id": "69a8230a",
   "metadata": {},
   "outputs": [],
   "source": [
    "video_urls=[]\n",
    "\n",
    "for i in range(0,5):\n",
    "    video_urls.append(videos[i].get_attribute('href'))\n",
    "    "
   ]
  },
  {
   "cell_type": "code",
   "execution_count": 83,
   "id": "4addd7ae",
   "metadata": {},
   "outputs": [
    {
     "data": {
      "text/plain": [
       "['https://www.youtube.com/watch?v=-osuIPJkPWg',\n",
       " 'https://www.youtube.com/watch?v=VsKb_U2-Cx0',\n",
       " 'https://www.youtube.com/watch?v=ZNHlCezYN1I',\n",
       " 'https://www.youtube.com/watch?v=nNmV-fuGW5c',\n",
       " 'https://www.youtube.com/watch?v=6Mht7UigC_w']"
      ]
     },
     "execution_count": 83,
     "metadata": {},
     "output_type": "execute_result"
    }
   ],
   "source": [
    "video_urls"
   ]
  },
  {
   "cell_type": "markdown",
   "id": "b991088c",
   "metadata": {},
   "source": [
    "**Q2. Write a python program to extract the URL of the video thumbnails of the first five videos.**"
   ]
  },
  {
   "cell_type": "code",
   "execution_count": 84,
   "id": "e248b0b9",
   "metadata": {},
   "outputs": [],
   "source": [
    "video_thumbnails=driver.find_elements(By.XPATH,\"//*[@id='thumbnail']/yt-image/img\")"
   ]
  },
  {
   "cell_type": "code",
   "execution_count": 85,
   "id": "034c6804",
   "metadata": {},
   "outputs": [],
   "source": [
    "video_thumbnail_urls=[]\n",
    "for i in range(0,5):\n",
    "    video_thumbnail_urls.append(video_thumbnails[i].get_attribute('src'))\n",
    "    "
   ]
  },
  {
   "cell_type": "code",
   "execution_count": 86,
   "id": "1924c34a",
   "metadata": {},
   "outputs": [
    {
     "data": {
      "text/plain": [
       "['https://i.ytimg.com/vi/-osuIPJkPWg/hqdefault.jpg?sqp=-oaymwEcCNACELwBSFTyq4qpAw4IARUAAIhCGAFwAcABBg==&rs=AOn4CLDGk4sJ60eWokEGCPOukzn-fiKktg',\n",
       " 'https://i.ytimg.com/vi/VsKb_U2-Cx0/hqdefault.jpg?sqp=-oaymwEcCNACELwBSFTyq4qpAw4IARUAAIhCGAFwAcABBg==&rs=AOn4CLDZE2621xP4B5BNl-ShL83qkUpb3g',\n",
       " 'https://i.ytimg.com/vi/ZNHlCezYN1I/hqdefault.jpg?sqp=-oaymwEcCNACELwBSFTyq4qpAw4IARUAAIhCGAFwAcABBg==&rs=AOn4CLAMp8V22Tg0F-yVX4Vnh9574yT45w',\n",
       " 'https://i.ytimg.com/vi/nNmV-fuGW5c/hqdefault.jpg?sqp=-oaymwEcCNACELwBSFTyq4qpAw4IARUAAIhCGAFwAcABBg==&rs=AOn4CLCn2SYj1y2Lw59vsUICHX_mjK9z5w',\n",
       " None]"
      ]
     },
     "execution_count": 86,
     "metadata": {},
     "output_type": "execute_result"
    }
   ],
   "source": [
    "video_thumbnail_urls"
   ]
  },
  {
   "cell_type": "markdown",
   "id": "b712606b",
   "metadata": {},
   "source": [
    "**Q3. Write a python program to extract the title of the first five videos.**"
   ]
  },
  {
   "cell_type": "code",
   "execution_count": 87,
   "id": "c4486fb7",
   "metadata": {},
   "outputs": [],
   "source": [
    "video_titles=driver.find_elements(\"id\",\"video-title\")"
   ]
  },
  {
   "cell_type": "code",
   "execution_count": 88,
   "id": "8afd5c0b",
   "metadata": {},
   "outputs": [],
   "source": [
    "video_title=[]\n",
    "for i in range(0,5):\n",
    "    video_title.append(video_titles[i].text)"
   ]
  },
  {
   "cell_type": "code",
   "execution_count": 89,
   "id": "e8b7ccd9",
   "metadata": {},
   "outputs": [
    {
     "data": {
      "text/plain": [
       "['Complete 𝗠𝗮𝗴𝗻𝗲𝘁𝗶𝗰 𝗘𝗳𝗳𝗲𝗰𝘁 𝗼𝗳 𝗘𝗹𝗲𝗰𝘁𝗿𝗶𝗰 𝗖𝘂𝗿𝗿𝗲𝗻𝘁 in 2 Hours 15 Minutes | Class 10th Board Exam',\n",
       " 'Complete 𝗛𝘂𝗺𝗮𝗻 𝗘𝘆𝗲 & 𝗧𝗵𝗲 𝗖𝗼𝗹𝗼𝘂𝗿𝗳𝘂𝗹 𝗪𝗼𝗿𝗹𝗱 in 2 Hours 24 Minutes | Class 10th Board Exam',\n",
       " 'Complete 𝗘𝗹𝗲𝗰𝘁𝗿𝗶𝗰𝗶𝘁𝘆 in 2 Hours 4 Minutes | Class 10th Board Exam',\n",
       " 'Complete 𝗟𝗜𝗚𝗛𝗧 in 3 Hours 49 Minutes | Class 10th Board Exam',\n",
       " 'NEW Batches for Class 10 & 9 - Session 2023-24 || NEEV and UDAAN Batch Launch 🚀']"
      ]
     },
     "execution_count": 89,
     "metadata": {},
     "output_type": "execute_result"
    }
   ],
   "source": [
    "video_title"
   ]
  },
  {
   "cell_type": "markdown",
   "id": "f7b4872e",
   "metadata": {},
   "source": [
    "**Q4. Write a python program to extract the number of views of the first five videos.**"
   ]
  },
  {
   "cell_type": "code",
   "execution_count": 90,
   "id": "f1c38c0c",
   "metadata": {},
   "outputs": [],
   "source": [
    "num_views=driver.find_elements(By.XPATH,\"//*[@id='metadata-line']/span[1]\")"
   ]
  },
  {
   "cell_type": "code",
   "execution_count": 91,
   "id": "f16e15ef",
   "metadata": {},
   "outputs": [
    {
     "data": {
      "text/plain": [
       "30"
      ]
     },
     "execution_count": 91,
     "metadata": {},
     "output_type": "execute_result"
    }
   ],
   "source": [
    "len(num_views)"
   ]
  },
  {
   "cell_type": "code",
   "execution_count": 92,
   "id": "ce3a5f24",
   "metadata": {},
   "outputs": [],
   "source": [
    "num_view=[]\n",
    "for i in range(0,5):\n",
    "    num_view.append(num_views[i].text)"
   ]
  },
  {
   "cell_type": "code",
   "execution_count": 93,
   "id": "ed384d2d",
   "metadata": {},
   "outputs": [
    {
     "data": {
      "text/plain": [
       "['15K views', '8K views', '29K views', '49K views', '41K views']"
      ]
     },
     "execution_count": 93,
     "metadata": {},
     "output_type": "execute_result"
    }
   ],
   "source": [
    "num_view"
   ]
  },
  {
   "cell_type": "markdown",
   "id": "43e2dbfd",
   "metadata": {},
   "source": [
    "**Q5. Write a python program to extract the time of posting of video for the first five videos.**"
   ]
  },
  {
   "cell_type": "code",
   "execution_count": 94,
   "id": "c34a978d",
   "metadata": {},
   "outputs": [],
   "source": [
    "times=driver.find_elements(By.XPATH,\"//*[@id='metadata-line']/span[2]\")"
   ]
  },
  {
   "cell_type": "code",
   "execution_count": 105,
   "id": "63400197",
   "metadata": {},
   "outputs": [],
   "source": [
    "time=[]\n",
    "for i in range(0,5):\n",
    "    time.append(times[i].text)"
   ]
  },
  {
   "cell_type": "code",
   "execution_count": 106,
   "id": "d9f25444",
   "metadata": {},
   "outputs": [
    {
     "data": {
      "text/plain": [
       "['10 hours ago',\n",
       " '11 hours ago',\n",
       " '16 hours ago',\n",
       " '20 hours ago',\n",
       " '23 hours ago']"
      ]
     },
     "execution_count": 106,
     "metadata": {},
     "output_type": "execute_result"
    }
   ],
   "source": [
    "time"
   ]
  },
  {
   "cell_type": "code",
   "execution_count": 112,
   "id": "cfaa9fae",
   "metadata": {},
   "outputs": [],
   "source": [
    "new_time=[]\n",
    "for i in time:\n",
    "    new_time.append(i.split()[0:2])"
   ]
  },
  {
   "cell_type": "code",
   "execution_count": 113,
   "id": "cdd30a3a",
   "metadata": {},
   "outputs": [
    {
     "data": {
      "text/plain": [
       "[['10', 'hours'],\n",
       " ['11', 'hours'],\n",
       " ['16', 'hours'],\n",
       " ['20', 'hours'],\n",
       " ['23', 'hours']]"
      ]
     },
     "execution_count": 113,
     "metadata": {},
     "output_type": "execute_result"
    }
   ],
   "source": [
    "new_time"
   ]
  },
  {
   "cell_type": "code",
   "execution_count": 114,
   "id": "e313fa22",
   "metadata": {},
   "outputs": [],
   "source": [
    "from datetime import datetime, timedelta\n",
    "\n",
    "curr_time=datetime.now()"
   ]
  },
  {
   "cell_type": "code",
   "execution_count": 130,
   "id": "e93663eb",
   "metadata": {},
   "outputs": [],
   "source": [
    "time_of_posting=[]\n",
    "date_of_posting=[]\n",
    "\n",
    "for i in new_time:\n",
    "    if i[1]=='hours' or i[1]=='hour':\n",
    "        hours=int(i[0])\n",
    "        time=curr_time - timedelta(hours=hours)\n",
    "    elif i[1]=='days'or i[i]=='day':\n",
    "        days=int(i[0])\n",
    "        time=curr_time - timedelta(days=days)\n",
    "    elif i[1]=='weeks'or i[i]=='week':\n",
    "        weeks=int(i[0])\n",
    "        time=curr_time - timedelta(weeks=weeks)\n",
    "    time_of_posting.append(time.strftime(\"%H:%M:%S\"))\n",
    "    date_of_posting.append(time.strftime(\"%d/%m/%Y\"))"
   ]
  },
  {
   "cell_type": "code",
   "execution_count": 131,
   "id": "5b9d31e4",
   "metadata": {},
   "outputs": [
    {
     "data": {
      "text/plain": [
       "['04:28:48', '03:28:48', '22:28:48', '18:28:48', '15:28:48']"
      ]
     },
     "execution_count": 131,
     "metadata": {},
     "output_type": "execute_result"
    }
   ],
   "source": [
    "time_of_posting"
   ]
  },
  {
   "cell_type": "code",
   "execution_count": 132,
   "id": "26207c01",
   "metadata": {},
   "outputs": [
    {
     "data": {
      "text/plain": [
       "['02/03/2023', '02/03/2023', '01/03/2023', '01/03/2023', '01/03/2023']"
      ]
     },
     "execution_count": 132,
     "metadata": {},
     "output_type": "execute_result"
    }
   ],
   "source": [
    "date_of_posting"
   ]
  },
  {
   "cell_type": "code",
   "execution_count": 134,
   "id": "7f5af939",
   "metadata": {},
   "outputs": [],
   "source": [
    "for i in range(0,5):\n",
    "    time_of_posting[i]=\"time:\"+time_of_posting[i]+\",\"+\"Date:\"+date_of_posting[i]"
   ]
  },
  {
   "cell_type": "code",
   "execution_count": 135,
   "id": "11488532",
   "metadata": {},
   "outputs": [
    {
     "data": {
      "text/plain": [
       "['time:04:28:48,Date:02/03/2023',\n",
       " 'time:03:28:48,Date:02/03/2023',\n",
       " 'time:22:28:48,Date:01/03/2023',\n",
       " 'time:18:28:48,Date:01/03/2023',\n",
       " 'time:15:28:48,Date:01/03/2023']"
      ]
     },
     "execution_count": 135,
     "metadata": {},
     "output_type": "execute_result"
    }
   ],
   "source": [
    "time_of_posting"
   ]
  },
  {
   "cell_type": "code",
   "execution_count": 136,
   "id": "51805ee0",
   "metadata": {},
   "outputs": [],
   "source": [
    "import pandas as pd"
   ]
  },
  {
   "cell_type": "code",
   "execution_count": 141,
   "id": "de81c058",
   "metadata": {},
   "outputs": [
    {
     "data": {
      "text/plain": [
       "['https://www.youtube.com/watch?v=-osuIPJkPWg',\n",
       " 'https://www.youtube.com/watch?v=VsKb_U2-Cx0',\n",
       " 'https://www.youtube.com/watch?v=ZNHlCezYN1I',\n",
       " 'https://www.youtube.com/watch?v=nNmV-fuGW5c',\n",
       " 'https://www.youtube.com/watch?v=6Mht7UigC_w']"
      ]
     },
     "execution_count": 141,
     "metadata": {},
     "output_type": "execute_result"
    }
   ],
   "source": [
    "video_urls"
   ]
  },
  {
   "cell_type": "code",
   "execution_count": 142,
   "id": "feb39db2",
   "metadata": {},
   "outputs": [
    {
     "data": {
      "text/plain": [
       "['https://i.ytimg.com/vi/-osuIPJkPWg/hqdefault.jpg?sqp=-oaymwEcCNACELwBSFTyq4qpAw4IARUAAIhCGAFwAcABBg==&rs=AOn4CLDGk4sJ60eWokEGCPOukzn-fiKktg',\n",
       " 'https://i.ytimg.com/vi/VsKb_U2-Cx0/hqdefault.jpg?sqp=-oaymwEcCNACELwBSFTyq4qpAw4IARUAAIhCGAFwAcABBg==&rs=AOn4CLDZE2621xP4B5BNl-ShL83qkUpb3g',\n",
       " 'https://i.ytimg.com/vi/ZNHlCezYN1I/hqdefault.jpg?sqp=-oaymwEcCNACELwBSFTyq4qpAw4IARUAAIhCGAFwAcABBg==&rs=AOn4CLAMp8V22Tg0F-yVX4Vnh9574yT45w',\n",
       " 'https://i.ytimg.com/vi/nNmV-fuGW5c/hqdefault.jpg?sqp=-oaymwEcCNACELwBSFTyq4qpAw4IARUAAIhCGAFwAcABBg==&rs=AOn4CLCn2SYj1y2Lw59vsUICHX_mjK9z5w',\n",
       " None]"
      ]
     },
     "execution_count": 142,
     "metadata": {},
     "output_type": "execute_result"
    }
   ],
   "source": [
    "video_thumbnail_urls"
   ]
  },
  {
   "cell_type": "code",
   "execution_count": 143,
   "id": "75e2addb",
   "metadata": {},
   "outputs": [
    {
     "data": {
      "text/plain": [
       "['Complete 𝗠𝗮𝗴𝗻𝗲𝘁𝗶𝗰 𝗘𝗳𝗳𝗲𝗰𝘁 𝗼𝗳 𝗘𝗹𝗲𝗰𝘁𝗿𝗶𝗰 𝗖𝘂𝗿𝗿𝗲𝗻𝘁 in 2 Hours 15 Minutes | Class 10th Board Exam',\n",
       " 'Complete 𝗛𝘂𝗺𝗮𝗻 𝗘𝘆𝗲 & 𝗧𝗵𝗲 𝗖𝗼𝗹𝗼𝘂𝗿𝗳𝘂𝗹 𝗪𝗼𝗿𝗹𝗱 in 2 Hours 24 Minutes | Class 10th Board Exam',\n",
       " 'Complete 𝗘𝗹𝗲𝗰𝘁𝗿𝗶𝗰𝗶𝘁𝘆 in 2 Hours 4 Minutes | Class 10th Board Exam',\n",
       " 'Complete 𝗟𝗜𝗚𝗛𝗧 in 3 Hours 49 Minutes | Class 10th Board Exam',\n",
       " 'NEW Batches for Class 10 & 9 - Session 2023-24 || NEEV and UDAAN Batch Launch 🚀']"
      ]
     },
     "execution_count": 143,
     "metadata": {},
     "output_type": "execute_result"
    }
   ],
   "source": [
    "video_title"
   ]
  },
  {
   "cell_type": "code",
   "execution_count": 144,
   "id": "24361e3c",
   "metadata": {},
   "outputs": [
    {
     "data": {
      "text/plain": [
       "['15K views', '8K views', '29K views', '49K views', '41K views']"
      ]
     },
     "execution_count": 144,
     "metadata": {},
     "output_type": "execute_result"
    }
   ],
   "source": [
    "num_view"
   ]
  },
  {
   "cell_type": "code",
   "execution_count": 145,
   "id": "3a7a2ed8",
   "metadata": {},
   "outputs": [
    {
     "data": {
      "text/plain": [
       "['time:04:28:48,Date:02/03/2023',\n",
       " 'time:03:28:48,Date:02/03/2023',\n",
       " 'time:22:28:48,Date:01/03/2023',\n",
       " 'time:18:28:48,Date:01/03/2023',\n",
       " 'time:15:28:48,Date:01/03/2023']"
      ]
     },
     "execution_count": 145,
     "metadata": {},
     "output_type": "execute_result"
    }
   ],
   "source": [
    "time_of_posting"
   ]
  },
  {
   "cell_type": "code",
   "execution_count": 146,
   "id": "284780d0",
   "metadata": {},
   "outputs": [],
   "source": [
    "data={'video urls':video_urls,\n",
    "      'video title':video_title,\n",
    "      'video thumbnail url':video_thumbnail_urls,\n",
    "      'number of views':num_view,\n",
    "      'time of posting': time_of_posting\n",
    "    \n",
    "}"
   ]
  },
  {
   "cell_type": "code",
   "execution_count": 147,
   "id": "832a730e",
   "metadata": {},
   "outputs": [],
   "source": [
    "df=pd.DataFrame(data)"
   ]
  },
  {
   "cell_type": "code",
   "execution_count": 151,
   "id": "3a4d2bf4",
   "metadata": {},
   "outputs": [],
   "source": [
    "df.to_csv(\"top5_videos\")"
   ]
  },
  {
   "cell_type": "code",
   "execution_count": null,
   "id": "e039cc98",
   "metadata": {},
   "outputs": [],
   "source": []
  }
 ],
 "metadata": {
  "kernelspec": {
   "display_name": "Python 3 (ipykernel)",
   "language": "python",
   "name": "python3"
  },
  "language_info": {
   "codemirror_mode": {
    "name": "ipython",
    "version": 3
   },
   "file_extension": ".py",
   "mimetype": "text/x-python",
   "name": "python",
   "nbconvert_exporter": "python",
   "pygments_lexer": "ipython3",
   "version": "3.9.13"
  }
 },
 "nbformat": 4,
 "nbformat_minor": 5
}
